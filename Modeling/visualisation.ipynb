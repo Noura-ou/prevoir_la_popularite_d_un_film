{
 "cells": [
  {
   "cell_type": "code",
   "execution_count": 1,
   "metadata": {},
   "outputs": [],
   "source": [
    "import pandas as pd\n",
    "from ydata_profiling import ProfileReport\n",
    "import numpy as np\n",
    "import matplotlib.pyplot as plt"
   ]
  },
  {
   "cell_type": "code",
   "execution_count": 2,
   "metadata": {},
   "outputs": [],
   "source": [
    "df = pd.read_csv('../scrap_allocine/dataset/dataset_bronze.csv')"
   ]
  },
  {
   "cell_type": "code",
   "execution_count": 7,
   "metadata": {},
   "outputs": [
    {
     "data": {
      "text/html": [
       "<div>\n",
       "<style scoped>\n",
       "    .dataframe tbody tr th:only-of-type {\n",
       "        vertical-align: middle;\n",
       "    }\n",
       "\n",
       "    .dataframe tbody tr th {\n",
       "        vertical-align: top;\n",
       "    }\n",
       "\n",
       "    .dataframe thead th {\n",
       "        text-align: right;\n",
       "    }\n",
       "</style>\n",
       "<table border=\"1\" class=\"dataframe\">\n",
       "  <thead>\n",
       "    <tr style=\"text-align: right;\">\n",
       "      <th></th>\n",
       "      <th>titre</th>\n",
       "      <th>date</th>\n",
       "      <th>genre</th>\n",
       "      <th>durée</th>\n",
       "      <th>réalisateur</th>\n",
       "      <th>distributeur</th>\n",
       "      <th>acteurs</th>\n",
       "      <th>titre_original</th>\n",
       "      <th>nationalités</th>\n",
       "      <th>langue_d_origine</th>\n",
       "      <th>type_film</th>\n",
       "      <th>annee_production</th>\n",
       "      <th>budget</th>\n",
       "      <th>box_office_total</th>\n",
       "      <th>note_presse</th>\n",
       "      <th>note_spectateurs</th>\n",
       "      <th>nombre_article</th>\n",
       "      <th>recompenses</th>\n",
       "      <th>description</th>\n",
       "      <th>boxoffice</th>\n",
       "    </tr>\n",
       "  </thead>\n",
       "  <tbody>\n",
       "    <tr>\n",
       "      <th>0</th>\n",
       "      <td>Les Vengeances de Maître Poutifard</td>\n",
       "      <td>28/06/2023</td>\n",
       "      <td>Famille</td>\n",
       "      <td>90.0</td>\n",
       "      <td>Pierre-François Martin-Laval</td>\n",
       "      <td>UGC Distribution</td>\n",
       "      <td>Christian Clavier,Isabelle Nanty,Jennie-Anne W...</td>\n",
       "      <td>NaN</td>\n",
       "      <td>France,Belgique</td>\n",
       "      <td>Français</td>\n",
       "      <td>Long-métrage</td>\n",
       "      <td>2023</td>\n",
       "      <td>-</td>\n",
       "      <td>360 119 entrées</td>\n",
       "      <td>2,0</td>\n",
       "      <td>2,1</td>\n",
       "      <td>5 articles de presse</td>\n",
       "      <td>NaN</td>\n",
       "      <td>Instituteur à la retraite, Robert Poutifard n'...</td>\n",
       "      <td>180 735</td>\n",
       "    </tr>\n",
       "    <tr>\n",
       "      <th>1</th>\n",
       "      <td>Le Challenge</td>\n",
       "      <td>21/06/2023</td>\n",
       "      <td>NaN</td>\n",
       "      <td>103.0</td>\n",
       "      <td>Gene Stupnitsky</td>\n",
       "      <td>Sony Pictures Releasing France</td>\n",
       "      <td>Jennifer Lawrence,Andrew Barth Feldman,Laura B...</td>\n",
       "      <td>No Hard Feelings</td>\n",
       "      <td>NaN</td>\n",
       "      <td>Anglais</td>\n",
       "      <td>Long-métrage</td>\n",
       "      <td>2023</td>\n",
       "      <td>-</td>\n",
       "      <td>116 813 entrées</td>\n",
       "      <td>3,0</td>\n",
       "      <td>3,1</td>\n",
       "      <td>5 articles de presse</td>\n",
       "      <td>NaN</td>\n",
       "      <td>Maddie est sur le point de perdre sa maison d’...</td>\n",
       "      <td>54 361</td>\n",
       "    </tr>\n",
       "    <tr>\n",
       "      <th>2</th>\n",
       "      <td>La Petite sirène</td>\n",
       "      <td>24/05/2023</td>\n",
       "      <td>Famille,Fantastique</td>\n",
       "      <td>136.0</td>\n",
       "      <td>Rob Marshall</td>\n",
       "      <td>The Walt Disney Company France</td>\n",
       "      <td>Halle Bailey,Cerise Calixte,Jonah Hauer-King</td>\n",
       "      <td>The Little Mermaid</td>\n",
       "      <td>NaN</td>\n",
       "      <td>Anglais</td>\n",
       "      <td>Long-métrage</td>\n",
       "      <td>2023</td>\n",
       "      <td>-</td>\n",
       "      <td>1 688 076 entrées</td>\n",
       "      <td>2,5</td>\n",
       "      <td>2,3</td>\n",
       "      <td>20 articles de presse</td>\n",
       "      <td>NaN</td>\n",
       "      <td>Les années 1830, dans les eaux d'une île ficti...</td>\n",
       "      <td>582 814</td>\n",
       "    </tr>\n",
       "    <tr>\n",
       "      <th>3</th>\n",
       "      <td>Un homme idéal</td>\n",
       "      <td>18/03/2015</td>\n",
       "      <td>NaN</td>\n",
       "      <td>97.0</td>\n",
       "      <td>Yann Gozlan</td>\n",
       "      <td>Mars Films</td>\n",
       "      <td>Pierre Niney,Ana Girardot,André Marcon</td>\n",
       "      <td>NaN</td>\n",
       "      <td>NaN</td>\n",
       "      <td>Français</td>\n",
       "      <td>Long-métrage</td>\n",
       "      <td>2014</td>\n",
       "      <td>-</td>\n",
       "      <td>666 835 entrées</td>\n",
       "      <td>3,2</td>\n",
       "      <td>3,8</td>\n",
       "      <td>24 articles de presse</td>\n",
       "      <td>NaN</td>\n",
       "      <td>Mathieu, 25 ans, aspire depuis toujours à deve...</td>\n",
       "      <td>337 525</td>\n",
       "    </tr>\n",
       "    <tr>\n",
       "      <th>4</th>\n",
       "      <td>Mission : Impossible - Protocole fantôme</td>\n",
       "      <td>14/12/2011</td>\n",
       "      <td>Espionnage,Thriller</td>\n",
       "      <td>133.0</td>\n",
       "      <td>Brad Bird</td>\n",
       "      <td>Paramount Pictures France</td>\n",
       "      <td>Tom Cruise,Jeremy Renner,Simon Pegg</td>\n",
       "      <td>Mission: Impossible - Ghost Protocol</td>\n",
       "      <td>NaN</td>\n",
       "      <td>Anglais</td>\n",
       "      <td>Long-métrage</td>\n",
       "      <td>2011</td>\n",
       "      <td>140 000 000 $</td>\n",
       "      <td>2 414 279 entrées</td>\n",
       "      <td>3,9</td>\n",
       "      <td>3,8</td>\n",
       "      <td>26 articles de presse</td>\n",
       "      <td>3 nominations</td>\n",
       "      <td>Impliquée dans l'attentat terroriste du Kremli...</td>\n",
       "      <td>827 046</td>\n",
       "    </tr>\n",
       "  </tbody>\n",
       "</table>\n",
       "</div>"
      ],
      "text/plain": [
       "                                      titre        date                genre  \\\n",
       "0        Les Vengeances de Maître Poutifard  28/06/2023              Famille   \n",
       "1                              Le Challenge  21/06/2023                  NaN   \n",
       "2                          La Petite sirène  24/05/2023  Famille,Fantastique   \n",
       "3                            Un homme idéal  18/03/2015                  NaN   \n",
       "4  Mission : Impossible - Protocole fantôme  14/12/2011  Espionnage,Thriller   \n",
       "\n",
       "   durée                   réalisateur                      distributeur  \\\n",
       "0   90.0  Pierre-François Martin-Laval                 UGC Distribution    \n",
       "1  103.0               Gene Stupnitsky   Sony Pictures Releasing France    \n",
       "2  136.0                  Rob Marshall   The Walt Disney Company France    \n",
       "3   97.0                   Yann Gozlan                       Mars Films    \n",
       "4  133.0                     Brad Bird        Paramount Pictures France    \n",
       "\n",
       "                                             acteurs  \\\n",
       "0  Christian Clavier,Isabelle Nanty,Jennie-Anne W...   \n",
       "1  Jennifer Lawrence,Andrew Barth Feldman,Laura B...   \n",
       "2       Halle Bailey,Cerise Calixte,Jonah Hauer-King   \n",
       "3             Pierre Niney,Ana Girardot,André Marcon   \n",
       "4                Tom Cruise,Jeremy Renner,Simon Pegg   \n",
       "\n",
       "                         titre_original     nationalités langue_d_origine  \\\n",
       "0                                   NaN  France,Belgique         Français   \n",
       "1                      No Hard Feelings              NaN          Anglais   \n",
       "2                    The Little Mermaid              NaN          Anglais   \n",
       "3                                   NaN              NaN         Français   \n",
       "4  Mission: Impossible - Ghost Protocol              NaN          Anglais   \n",
       "\n",
       "      type_film  annee_production         budget   box_office_total  \\\n",
       "0  Long-métrage              2023              -    360 119 entrées   \n",
       "1  Long-métrage              2023              -    116 813 entrées   \n",
       "2  Long-métrage              2023              -  1 688 076 entrées   \n",
       "3  Long-métrage              2014              -    666 835 entrées   \n",
       "4  Long-métrage              2011  140 000 000 $  2 414 279 entrées   \n",
       "\n",
       "  note_presse note_spectateurs         nombre_article    recompenses  \\\n",
       "0         2,0              2,1   5 articles de presse            NaN   \n",
       "1         3,0              3,1   5 articles de presse            NaN   \n",
       "2         2,5              2,3  20 articles de presse            NaN   \n",
       "3         3,2              3,8  24 articles de presse            NaN   \n",
       "4         3,9              3,8  26 articles de presse  3 nominations   \n",
       "\n",
       "                                         description boxoffice  \n",
       "0  Instituteur à la retraite, Robert Poutifard n'...   180 735  \n",
       "1  Maddie est sur le point de perdre sa maison d’...    54 361  \n",
       "2  Les années 1830, dans les eaux d'une île ficti...   582 814  \n",
       "3  Mathieu, 25 ans, aspire depuis toujours à deve...   337 525  \n",
       "4  Impliquée dans l'attentat terroriste du Kremli...   827 046  "
      ]
     },
     "execution_count": 7,
     "metadata": {},
     "output_type": "execute_result"
    }
   ],
   "source": [
    "# set the maximum number of columns to be displayed to None\n",
    "pd.set_option(\"display.max_columns\", None)\n",
    "df.head(5)"
   ]
  },
  {
   "cell_type": "code",
   "execution_count": 4,
   "metadata": {},
   "outputs": [
    {
     "name": "stdout",
     "output_type": "stream",
     "text": [
      "<class 'pandas.core.frame.DataFrame'>\n",
      "RangeIndex: 4913 entries, 0 to 4912\n",
      "Data columns (total 20 columns):\n",
      " #   Column            Non-Null Count  Dtype  \n",
      "---  ------            --------------  -----  \n",
      " 0   titre             4913 non-null   object \n",
      " 1   date              4608 non-null   object \n",
      " 2   genre             3148 non-null   object \n",
      " 3   durée             4906 non-null   float64\n",
      " 4   réalisateur       4913 non-null   object \n",
      " 5   distributeur      4786 non-null   object \n",
      " 6   acteurs           4891 non-null   object \n",
      " 7   titre_original    1998 non-null   object \n",
      " 8   nationalités      1361 non-null   object \n",
      " 9   langue_d_origine  4913 non-null   object \n",
      " 10  type_film         4913 non-null   object \n",
      " 11  annee_production  4913 non-null   int64  \n",
      " 12  budget            4913 non-null   object \n",
      " 13  box_office_total  4357 non-null   object \n",
      " 14  note_presse       4910 non-null   object \n",
      " 15  note_spectateurs  4583 non-null   object \n",
      " 16  nombre_article    4898 non-null   object \n",
      " 17  recompenses       2418 non-null   object \n",
      " 18  description       4395 non-null   object \n",
      " 19  boxoffice         4913 non-null   object \n",
      "dtypes: float64(1), int64(1), object(18)\n",
      "memory usage: 767.8+ KB\n"
     ]
    }
   ],
   "source": [
    "df.info()"
   ]
  },
  {
   "cell_type": "code",
   "execution_count": 5,
   "metadata": {},
   "outputs": [
    {
     "data": {
      "text/html": [
       "<div>\n",
       "<style scoped>\n",
       "    .dataframe tbody tr th:only-of-type {\n",
       "        vertical-align: middle;\n",
       "    }\n",
       "\n",
       "    .dataframe tbody tr th {\n",
       "        vertical-align: top;\n",
       "    }\n",
       "\n",
       "    .dataframe thead th {\n",
       "        text-align: right;\n",
       "    }\n",
       "</style>\n",
       "<table border=\"1\" class=\"dataframe\">\n",
       "  <thead>\n",
       "    <tr style=\"text-align: right;\">\n",
       "      <th></th>\n",
       "      <th>durée</th>\n",
       "      <th>annee_production</th>\n",
       "    </tr>\n",
       "  </thead>\n",
       "  <tbody>\n",
       "    <tr>\n",
       "      <th>count</th>\n",
       "      <td>4906.000000</td>\n",
       "      <td>4913.000000</td>\n",
       "    </tr>\n",
       "    <tr>\n",
       "      <th>mean</th>\n",
       "      <td>107.710355</td>\n",
       "      <td>2012.363932</td>\n",
       "    </tr>\n",
       "    <tr>\n",
       "      <th>std</th>\n",
       "      <td>19.438643</td>\n",
       "      <td>8.738386</td>\n",
       "    </tr>\n",
       "    <tr>\n",
       "      <th>min</th>\n",
       "      <td>26.000000</td>\n",
       "      <td>1933.000000</td>\n",
       "    </tr>\n",
       "    <tr>\n",
       "      <th>25%</th>\n",
       "      <td>95.000000</td>\n",
       "      <td>2008.000000</td>\n",
       "    </tr>\n",
       "    <tr>\n",
       "      <th>50%</th>\n",
       "      <td>105.000000</td>\n",
       "      <td>2014.000000</td>\n",
       "    </tr>\n",
       "    <tr>\n",
       "      <th>75%</th>\n",
       "      <td>118.000000</td>\n",
       "      <td>2018.000000</td>\n",
       "    </tr>\n",
       "    <tr>\n",
       "      <th>max</th>\n",
       "      <td>327.000000</td>\n",
       "      <td>2023.000000</td>\n",
       "    </tr>\n",
       "  </tbody>\n",
       "</table>\n",
       "</div>"
      ],
      "text/plain": [
       "             durée  annee_production\n",
       "count  4906.000000       4913.000000\n",
       "mean    107.710355       2012.363932\n",
       "std      19.438643          8.738386\n",
       "min      26.000000       1933.000000\n",
       "25%      95.000000       2008.000000\n",
       "50%     105.000000       2014.000000\n",
       "75%     118.000000       2018.000000\n",
       "max     327.000000       2023.000000"
      ]
     },
     "execution_count": 5,
     "metadata": {},
     "output_type": "execute_result"
    }
   ],
   "source": [
    "df.describe()"
   ]
  },
  {
   "cell_type": "code",
   "execution_count": 6,
   "metadata": {},
   "outputs": [
    {
     "data": {
      "application/vnd.jupyter.widget-view+json": {
       "model_id": "b000c363359b490498d3b0224ad42762",
       "version_major": 2,
       "version_minor": 0
      },
      "text/plain": [
       "Summarize dataset:   0%|          | 0/5 [00:00<?, ?it/s]"
      ]
     },
     "metadata": {},
     "output_type": "display_data"
    },
    {
     "data": {
      "application/vnd.jupyter.widget-view+json": {
       "model_id": "b54045065cad4dd89efcce3590d18926",
       "version_major": 2,
       "version_minor": 0
      },
      "text/plain": [
       "Generate report structure:   0%|          | 0/1 [00:00<?, ?it/s]"
      ]
     },
     "metadata": {},
     "output_type": "display_data"
    },
    {
     "data": {
      "application/vnd.jupyter.widget-view+json": {
       "model_id": "f1ac39ac29d54975a46f61f06be52ece",
       "version_major": 2,
       "version_minor": 0
      },
      "text/plain": [
       "Render HTML:   0%|          | 0/1 [00:00<?, ?it/s]"
      ]
     },
     "metadata": {},
     "output_type": "display_data"
    },
    {
     "data": {
      "application/vnd.jupyter.widget-view+json": {
       "model_id": "c1d3bfac099a4e589397f1e4a3f4dc58",
       "version_major": 2,
       "version_minor": 0
      },
      "text/plain": [
       "Export report to file:   0%|          | 0/1 [00:00<?, ?it/s]"
      ]
     },
     "metadata": {},
     "output_type": "display_data"
    }
   ],
   "source": [
    "profile = ProfileReport(df, title=\"Profiling Report\")\n",
    "profile.to_file('films.html')"
   ]
  }
 ],
 "metadata": {
  "kernelspec": {
   "display_name": "sklearn-env",
   "language": "python",
   "name": "python3"
  },
  "language_info": {
   "codemirror_mode": {
    "name": "ipython",
    "version": 3
   },
   "file_extension": ".py",
   "mimetype": "text/x-python",
   "name": "python",
   "nbconvert_exporter": "python",
   "pygments_lexer": "ipython3",
   "version": "3.11.3"
  },
  "orig_nbformat": 4
 },
 "nbformat": 4,
 "nbformat_minor": 2
}
