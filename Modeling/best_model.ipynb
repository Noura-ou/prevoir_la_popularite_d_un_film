{
 "cells": [
  {
   "cell_type": "markdown",
   "metadata": {},
   "source": [
    "### CATBOOST Model with CatBoostEncoder"
   ]
  },
  {
   "cell_type": "code",
   "execution_count": 155,
   "metadata": {},
   "outputs": [],
   "source": [
    "import pandas as pd\n",
    "from sklearn.model_selection import train_test_split\n",
    "from sklearn.metrics import r2_score\n",
    "import category_encoders as ce\n",
    "from catboost import CatBoostRegressor    # For regression tasks use CatBoostRegressor, for classification use CatBoostClassifier\n",
    "from sklearn.pipeline import Pipeline\n",
    "from sklearn.compose import ColumnTransformer\n",
    "from sklearn.preprocessing import StandardScaler\n",
    "from sklearn.metrics import mean_squared_error  # For regression tasks\n",
    "import pickle\n",
    "import os\n",
    "from dotenv import load_dotenv\n",
    "import pyodbc"
   ]
  },
  {
   "cell_type": "code",
   "execution_count": 156,
   "metadata": {},
   "outputs": [],
   "source": [
    "# import dataset\n",
    "df = pd.read_csv('dataset_model_gold.csv')"
   ]
  },
  {
   "cell_type": "code",
   "execution_count": 157,
   "metadata": {},
   "outputs": [],
   "source": [
    "# # Load environment variables\n",
    "# load_dotenv()\n",
    "# username = os.getenv('DB_USER')\n",
    "# password = os.getenv('DB_PASSWORD')\n",
    "# server = os.getenv('DB_SERVER')\n",
    "# database = os.getenv('DB_name')\n",
    "# DB_Driver = os.getenv('DB_Driver')\n",
    "\n",
    "# # Établir la connexion à votre base de données\n",
    "# connection_string = f'Driver={DB_Driver};Server=tcp:{server},1433;Database={database};Uid={username};Pwd={password};Encrypt=yes;TrustServerCertificate=no;Connection Timeout=30;'\n",
    "# conn = pyodbc.connect(connection_string)\n",
    "\n",
    "# cursor = conn.cursor()\n",
    "\n",
    "# query = \"SELECT * FROM [dbo].[dataset_model]\"\n",
    "\n",
    "# df = pd.read_sql(query, conn)\n",
    "\n",
    "# # Fermer la connexion après utilisation\n",
    "# conn.close()"
   ]
  },
  {
   "cell_type": "code",
   "execution_count": 158,
   "metadata": {},
   "outputs": [
    {
     "name": "stdout",
     "output_type": "stream",
     "text": [
      "<class 'pandas.core.frame.DataFrame'>\n",
      "RangeIndex: 7015 entries, 0 to 7014\n",
      "Data columns (total 19 columns):\n",
      " #   Column                 Non-Null Count  Dtype \n",
      "---  ------                 --------------  ----- \n",
      " 0   titre                  7015 non-null   object\n",
      " 1   date                   7015 non-null   object\n",
      " 2   genre                  7015 non-null   object\n",
      " 3   duree                  7015 non-null   int64 \n",
      " 4   realisateur            7015 non-null   object\n",
      " 5   distributeur           7015 non-null   object\n",
      " 6   acteurs                7015 non-null   object\n",
      " 7   nationalites           7015 non-null   object\n",
      " 8   langue_d_origine       7015 non-null   object\n",
      " 9   type_film              7015 non-null   object\n",
      " 10  annee_production       7015 non-null   int64 \n",
      " 11  nombre_article         7015 non-null   int64 \n",
      " 12  description            6285 non-null   object\n",
      " 13  film_id_allocine       7015 non-null   int64 \n",
      " 14  image                  7015 non-null   object\n",
      " 15  boxoffice              7015 non-null   int64 \n",
      " 16  nombre_acteurs_connus  7015 non-null   int64 \n",
      " 17  acteurs_connus         7015 non-null   object\n",
      " 18  realisateur_connu      7015 non-null   int64 \n",
      "dtypes: int64(7), object(12)\n",
      "memory usage: 1.0+ MB\n"
     ]
    }
   ],
   "source": [
    "df.info()"
   ]
  },
  {
   "cell_type": "code",
   "execution_count": 159,
   "metadata": {},
   "outputs": [
    {
     "data": {
      "text/plain": [
       "Index(['titre', 'date', 'genre', 'duree', 'realisateur', 'distributeur',\n",
       "       'acteurs', 'nationalites', 'langue_d_origine', 'type_film',\n",
       "       'annee_production', 'nombre_article', 'description', 'film_id_allocine',\n",
       "       'image', 'boxoffice', 'nombre_acteurs_connus', 'acteurs_connus',\n",
       "       'realisateur_connu'],\n",
       "      dtype='object')"
      ]
     },
     "execution_count": 159,
     "metadata": {},
     "output_type": "execute_result"
    }
   ],
   "source": [
    "df.columns"
   ]
  },
  {
   "cell_type": "code",
   "execution_count": 160,
   "metadata": {},
   "outputs": [],
   "source": [
    "X = df.drop(['boxoffice','titre','date','acteurs', 'film_id_allocine','image','realisateur','acteurs_connus',\n",
    "        'description', 'nombre_article'], axis=1)\n",
    "y = df['boxoffice']\n",
    "X_train, X_test, y_train, y_test = train_test_split(X, y, train_size=0.8, shuffle=True, random_state=42)"
   ]
  },
  {
   "cell_type": "code",
   "execution_count": 161,
   "metadata": {},
   "outputs": [],
   "source": [
    "# X = df.drop(['boxoffice','date','acteurs',\n",
    "#         'description','nombre_article','Bollywood','titre', 'Sport event', 'Expérimental', 'Musical', 'Péplum', 'Divers','Erotique', 'Science fiction', 'Guerre', 'Judiciaire', 'Arts Martiaux', 'Western'], axis=1)\n",
    "# y = df['boxoffice']\n",
    "# X_train, X_test, y_train, y_test = train_test_split(X, y, train_size=0.8, shuffle=True, random_state=42)"
   ]
  },
  {
   "cell_type": "code",
   "execution_count": 162,
   "metadata": {},
   "outputs": [
    {
     "name": "stdout",
     "output_type": "stream",
     "text": [
      "<class 'pandas.core.frame.DataFrame'>\n",
      "RangeIndex: 7015 entries, 0 to 7014\n",
      "Data columns (total 9 columns):\n",
      " #   Column                 Non-Null Count  Dtype \n",
      "---  ------                 --------------  ----- \n",
      " 0   genre                  7015 non-null   object\n",
      " 1   duree                  7015 non-null   int64 \n",
      " 2   distributeur           7015 non-null   object\n",
      " 3   nationalites           7015 non-null   object\n",
      " 4   langue_d_origine       7015 non-null   object\n",
      " 5   type_film              7015 non-null   object\n",
      " 6   annee_production       7015 non-null   int64 \n",
      " 7   nombre_acteurs_connus  7015 non-null   int64 \n",
      " 8   realisateur_connu      7015 non-null   int64 \n",
      "dtypes: int64(4), object(5)\n",
      "memory usage: 493.4+ KB\n"
     ]
    }
   ],
   "source": [
    "X.info()"
   ]
  },
  {
   "cell_type": "code",
   "execution_count": 163,
   "metadata": {},
   "outputs": [
    {
     "name": "stdout",
     "output_type": "stream",
     "text": [
      "0:\tlearn: 2587388.2412188\ttotal: 1.87ms\tremaining: 372ms\n",
      "1:\tlearn: 2555835.3703623\ttotal: 3.55ms\tremaining: 351ms\n",
      "2:\tlearn: 2525060.4656005\ttotal: 5.05ms\tremaining: 332ms\n",
      "3:\tlearn: 2496474.9142517\ttotal: 6.26ms\tremaining: 307ms\n",
      "4:\tlearn: 2465634.2163603\ttotal: 7.95ms\tremaining: 310ms\n",
      "5:\tlearn: 2441976.8283534\ttotal: 9.33ms\tremaining: 302ms\n",
      "6:\tlearn: 2417895.8019514\ttotal: 10.8ms\tremaining: 298ms\n",
      "7:\tlearn: 2393973.7667222\ttotal: 12.3ms\tremaining: 295ms\n",
      "8:\tlearn: 2370079.1173529\ttotal: 13.8ms\tremaining: 293ms\n",
      "9:\tlearn: 2353186.8733068\ttotal: 15.5ms\tremaining: 294ms\n",
      "10:\tlearn: 2336861.4017286\ttotal: 17.2ms\tremaining: 296ms\n",
      "11:\tlearn: 2320778.1719538\ttotal: 18.9ms\tremaining: 296ms\n",
      "12:\tlearn: 2303861.2636827\ttotal: 20.7ms\tremaining: 298ms\n",
      "13:\tlearn: 2287894.8650615\ttotal: 22.9ms\tremaining: 304ms\n",
      "14:\tlearn: 2271196.0366354\ttotal: 24.7ms\tremaining: 304ms\n",
      "15:\tlearn: 2257978.8307658\ttotal: 26.4ms\tremaining: 304ms\n",
      "16:\tlearn: 2245753.6591597\ttotal: 27.9ms\tremaining: 301ms\n",
      "17:\tlearn: 2234178.0712380\ttotal: 30ms\tremaining: 304ms\n",
      "18:\tlearn: 2223972.0536860\ttotal: 31.8ms\tremaining: 303ms\n",
      "19:\tlearn: 2211356.4744880\ttotal: 34.1ms\tremaining: 307ms\n",
      "20:\tlearn: 2202019.2012418\ttotal: 35.8ms\tremaining: 306ms\n",
      "21:\tlearn: 2192300.9019608\ttotal: 37.5ms\tremaining: 303ms\n",
      "22:\tlearn: 2183696.3477169\ttotal: 39.1ms\tremaining: 301ms\n",
      "23:\tlearn: 2174509.3915175\ttotal: 40.8ms\tremaining: 300ms\n",
      "24:\tlearn: 2164083.0136473\ttotal: 42.5ms\tremaining: 298ms\n",
      "25:\tlearn: 2156871.7608534\ttotal: 44.6ms\tremaining: 298ms\n",
      "26:\tlearn: 2149832.1951373\ttotal: 46.3ms\tremaining: 297ms\n",
      "27:\tlearn: 2142282.1367065\ttotal: 47.9ms\tremaining: 294ms\n",
      "28:\tlearn: 2132608.0494776\ttotal: 49.7ms\tremaining: 293ms\n",
      "29:\tlearn: 2124648.9346118\ttotal: 51.3ms\tremaining: 291ms\n",
      "30:\tlearn: 2117902.4596695\ttotal: 52.7ms\tremaining: 288ms\n",
      "31:\tlearn: 2112231.0233234\ttotal: 54.5ms\tremaining: 286ms\n",
      "32:\tlearn: 2107471.8983027\ttotal: 56.5ms\tremaining: 286ms\n",
      "33:\tlearn: 2103510.2114872\ttotal: 58.2ms\tremaining: 284ms\n",
      "34:\tlearn: 2098159.6431841\ttotal: 59.8ms\tremaining: 282ms\n",
      "35:\tlearn: 2091381.7759074\ttotal: 61.5ms\tremaining: 280ms\n",
      "36:\tlearn: 2084160.5106194\ttotal: 63.5ms\tremaining: 280ms\n",
      "37:\tlearn: 2081312.7816190\ttotal: 65.1ms\tremaining: 278ms\n",
      "38:\tlearn: 2074328.1133177\ttotal: 67.2ms\tremaining: 277ms\n",
      "39:\tlearn: 2069874.0110874\ttotal: 69ms\tremaining: 276ms\n",
      "40:\tlearn: 2066489.4519506\ttotal: 70.7ms\tremaining: 274ms\n",
      "41:\tlearn: 2062410.3440812\ttotal: 72.6ms\tremaining: 273ms\n",
      "42:\tlearn: 2058041.5096362\ttotal: 74.1ms\tremaining: 270ms\n",
      "43:\tlearn: 2052217.2154239\ttotal: 75.7ms\tremaining: 268ms\n",
      "44:\tlearn: 2047806.7529362\ttotal: 77.4ms\tremaining: 267ms\n",
      "45:\tlearn: 2043734.4036016\ttotal: 78.9ms\tremaining: 264ms\n",
      "46:\tlearn: 2041436.9379042\ttotal: 80.7ms\tremaining: 263ms\n",
      "47:\tlearn: 2036146.4861630\ttotal: 82.2ms\tremaining: 260ms\n",
      "48:\tlearn: 2032895.5156010\ttotal: 83.9ms\tremaining: 259ms\n",
      "49:\tlearn: 2030147.2380822\ttotal: 85.5ms\tremaining: 257ms\n",
      "50:\tlearn: 2026031.5809654\ttotal: 87.3ms\tremaining: 255ms\n",
      "51:\tlearn: 2024535.1328516\ttotal: 89ms\tremaining: 253ms\n",
      "52:\tlearn: 2022369.3569344\ttotal: 90.9ms\tremaining: 252ms\n",
      "53:\tlearn: 2021195.8532010\ttotal: 92.9ms\tremaining: 251ms\n",
      "54:\tlearn: 2018447.9072874\ttotal: 94.5ms\tremaining: 249ms\n",
      "55:\tlearn: 2014573.9624505\ttotal: 97.1ms\tremaining: 250ms\n",
      "56:\tlearn: 2011077.1998520\ttotal: 99.6ms\tremaining: 250ms\n",
      "57:\tlearn: 2006584.7533178\ttotal: 101ms\tremaining: 248ms\n",
      "58:\tlearn: 2004241.0006641\ttotal: 103ms\tremaining: 246ms\n",
      "59:\tlearn: 2002690.2263648\ttotal: 105ms\tremaining: 244ms\n",
      "60:\tlearn: 2001169.0676683\ttotal: 106ms\tremaining: 242ms\n",
      "61:\tlearn: 1998736.6635121\ttotal: 109ms\tremaining: 242ms\n",
      "62:\tlearn: 1997634.6086695\ttotal: 110ms\tremaining: 239ms\n",
      "63:\tlearn: 1994765.5920958\ttotal: 112ms\tremaining: 238ms\n",
      "64:\tlearn: 1991627.0560375\ttotal: 114ms\tremaining: 237ms\n",
      "65:\tlearn: 1988752.2463697\ttotal: 116ms\tremaining: 235ms\n",
      "66:\tlearn: 1986653.4213463\ttotal: 118ms\tremaining: 233ms\n",
      "67:\tlearn: 1985151.0135169\ttotal: 119ms\tremaining: 232ms\n",
      "68:\tlearn: 1983856.6991824\ttotal: 121ms\tremaining: 230ms\n",
      "69:\tlearn: 1982752.4987031\ttotal: 123ms\tremaining: 228ms\n",
      "70:\tlearn: 1981562.2565722\ttotal: 125ms\tremaining: 226ms\n",
      "71:\tlearn: 1979989.5622379\ttotal: 126ms\tremaining: 224ms\n",
      "72:\tlearn: 1979297.1930942\ttotal: 128ms\tremaining: 222ms\n",
      "73:\tlearn: 1975376.5080447\ttotal: 129ms\tremaining: 220ms\n",
      "74:\tlearn: 1970615.0862208\ttotal: 131ms\tremaining: 219ms\n",
      "75:\tlearn: 1969697.0308357\ttotal: 133ms\tremaining: 217ms\n",
      "76:\tlearn: 1968812.5549736\ttotal: 135ms\tremaining: 215ms\n",
      "77:\tlearn: 1964739.3937385\ttotal: 137ms\tremaining: 214ms\n",
      "78:\tlearn: 1962761.7866066\ttotal: 139ms\tremaining: 212ms\n",
      "79:\tlearn: 1961968.3211969\ttotal: 140ms\tremaining: 211ms\n",
      "80:\tlearn: 1960533.1306449\ttotal: 143ms\tremaining: 210ms\n",
      "81:\tlearn: 1957627.6402058\ttotal: 145ms\tremaining: 208ms\n",
      "82:\tlearn: 1954070.9869494\ttotal: 146ms\tremaining: 206ms\n",
      "83:\tlearn: 1951139.7361019\ttotal: 149ms\tremaining: 205ms\n",
      "84:\tlearn: 1948721.9729097\ttotal: 151ms\tremaining: 204ms\n",
      "85:\tlearn: 1946433.5173482\ttotal: 152ms\tremaining: 202ms\n",
      "86:\tlearn: 1944337.3757783\ttotal: 154ms\tremaining: 200ms\n",
      "87:\tlearn: 1942235.9449859\ttotal: 156ms\tremaining: 198ms\n",
      "88:\tlearn: 1941856.1275748\ttotal: 158ms\tremaining: 197ms\n",
      "89:\tlearn: 1940192.7856624\ttotal: 159ms\tremaining: 195ms\n",
      "90:\tlearn: 1938674.7739825\ttotal: 161ms\tremaining: 193ms\n",
      "91:\tlearn: 1937814.6148752\ttotal: 163ms\tremaining: 191ms\n",
      "92:\tlearn: 1934862.9297544\ttotal: 165ms\tremaining: 190ms\n",
      "93:\tlearn: 1932888.3519395\ttotal: 166ms\tremaining: 188ms\n",
      "94:\tlearn: 1931515.3764901\ttotal: 168ms\tremaining: 185ms\n",
      "95:\tlearn: 1930425.4489524\ttotal: 169ms\tremaining: 183ms\n",
      "96:\tlearn: 1928037.3715106\ttotal: 171ms\tremaining: 182ms\n",
      "97:\tlearn: 1925871.3288773\ttotal: 173ms\tremaining: 180ms\n",
      "98:\tlearn: 1924820.7489690\ttotal: 174ms\tremaining: 178ms\n",
      "99:\tlearn: 1922245.7723581\ttotal: 176ms\tremaining: 176ms\n",
      "100:\tlearn: 1920933.5943410\ttotal: 178ms\tremaining: 174ms\n",
      "101:\tlearn: 1918344.3103129\ttotal: 180ms\tremaining: 173ms\n",
      "102:\tlearn: 1917923.8991492\ttotal: 181ms\tremaining: 171ms\n",
      "103:\tlearn: 1916836.8358278\ttotal: 183ms\tremaining: 169ms\n",
      "104:\tlearn: 1914323.5185553\ttotal: 185ms\tremaining: 168ms\n",
      "105:\tlearn: 1911728.1067387\ttotal: 187ms\tremaining: 166ms\n",
      "106:\tlearn: 1910027.2247060\ttotal: 189ms\tremaining: 164ms\n",
      "107:\tlearn: 1908481.7915631\ttotal: 191ms\tremaining: 163ms\n",
      "108:\tlearn: 1907256.2694712\ttotal: 193ms\tremaining: 161ms\n",
      "109:\tlearn: 1904718.9724469\ttotal: 194ms\tremaining: 159ms\n",
      "110:\tlearn: 1902040.2213857\ttotal: 196ms\tremaining: 157ms\n",
      "111:\tlearn: 1900400.1131071\ttotal: 198ms\tremaining: 155ms\n",
      "112:\tlearn: 1899885.3523894\ttotal: 199ms\tremaining: 153ms\n",
      "113:\tlearn: 1897721.3148847\ttotal: 202ms\tremaining: 152ms\n",
      "114:\tlearn: 1896764.0404066\ttotal: 203ms\tremaining: 150ms\n",
      "115:\tlearn: 1895305.2521085\ttotal: 205ms\tremaining: 148ms\n",
      "116:\tlearn: 1891946.5037056\ttotal: 206ms\tremaining: 146ms\n",
      "117:\tlearn: 1890669.9814439\ttotal: 208ms\tremaining: 145ms\n",
      "118:\tlearn: 1889363.6634381\ttotal: 210ms\tremaining: 143ms\n",
      "119:\tlearn: 1887456.5368117\ttotal: 211ms\tremaining: 141ms\n",
      "120:\tlearn: 1885704.4812497\ttotal: 213ms\tremaining: 139ms\n",
      "121:\tlearn: 1884185.9847370\ttotal: 214ms\tremaining: 137ms\n",
      "122:\tlearn: 1881398.8987123\ttotal: 216ms\tremaining: 135ms\n",
      "123:\tlearn: 1878169.4194924\ttotal: 218ms\tremaining: 134ms\n",
      "124:\tlearn: 1876929.0807962\ttotal: 220ms\tremaining: 132ms\n",
      "125:\tlearn: 1875121.3489065\ttotal: 222ms\tremaining: 131ms\n",
      "126:\tlearn: 1872099.4806458\ttotal: 224ms\tremaining: 129ms\n",
      "127:\tlearn: 1870196.7451756\ttotal: 225ms\tremaining: 127ms\n",
      "128:\tlearn: 1866134.1625415\ttotal: 227ms\tremaining: 125ms\n",
      "129:\tlearn: 1865695.4728545\ttotal: 229ms\tremaining: 123ms\n",
      "130:\tlearn: 1863943.0406795\ttotal: 230ms\tremaining: 121ms\n",
      "131:\tlearn: 1861716.9873016\ttotal: 232ms\tremaining: 120ms\n",
      "132:\tlearn: 1859324.3172423\ttotal: 234ms\tremaining: 118ms\n",
      "133:\tlearn: 1857353.5488860\ttotal: 236ms\tremaining: 116ms\n",
      "134:\tlearn: 1856041.8672343\ttotal: 238ms\tremaining: 114ms\n",
      "135:\tlearn: 1853549.7154458\ttotal: 240ms\tremaining: 113ms\n",
      "136:\tlearn: 1852260.6347824\ttotal: 241ms\tremaining: 111ms\n",
      "137:\tlearn: 1851093.4431235\ttotal: 243ms\tremaining: 109ms\n",
      "138:\tlearn: 1849919.0702842\ttotal: 244ms\tremaining: 107ms\n",
      "139:\tlearn: 1849011.0460113\ttotal: 246ms\tremaining: 105ms\n",
      "140:\tlearn: 1847559.9051241\ttotal: 248ms\tremaining: 104ms\n",
      "141:\tlearn: 1845811.3014852\ttotal: 249ms\tremaining: 102ms\n",
      "142:\tlearn: 1845257.8935233\ttotal: 251ms\tremaining: 100ms\n",
      "143:\tlearn: 1842668.6280404\ttotal: 253ms\tremaining: 98.2ms\n",
      "144:\tlearn: 1841251.7280032\ttotal: 254ms\tremaining: 96.5ms\n",
      "145:\tlearn: 1837542.7623938\ttotal: 257ms\tremaining: 94.9ms\n",
      "146:\tlearn: 1836514.0671109\ttotal: 259ms\tremaining: 93.3ms\n",
      "147:\tlearn: 1833705.0433740\ttotal: 261ms\tremaining: 91.6ms\n",
      "148:\tlearn: 1832083.4214611\ttotal: 263ms\tremaining: 89.9ms\n",
      "149:\tlearn: 1831067.3163236\ttotal: 265ms\tremaining: 88.2ms\n",
      "150:\tlearn: 1830371.9857375\ttotal: 267ms\tremaining: 86.6ms\n",
      "151:\tlearn: 1828958.9641281\ttotal: 268ms\tremaining: 84.7ms\n",
      "152:\tlearn: 1825633.1447427\ttotal: 270ms\tremaining: 82.9ms\n",
      "153:\tlearn: 1824352.4731536\ttotal: 272ms\tremaining: 81.2ms\n",
      "154:\tlearn: 1822676.5665639\ttotal: 274ms\tremaining: 79.4ms\n",
      "155:\tlearn: 1819817.1182008\ttotal: 275ms\tremaining: 77.6ms\n",
      "156:\tlearn: 1818749.0730927\ttotal: 277ms\tremaining: 75.8ms\n",
      "157:\tlearn: 1817467.7016246\ttotal: 279ms\tremaining: 74ms\n",
      "158:\tlearn: 1814764.9335188\ttotal: 281ms\tremaining: 72.3ms\n",
      "159:\tlearn: 1812970.8352713\ttotal: 282ms\tremaining: 70.5ms\n",
      "160:\tlearn: 1811224.6287844\ttotal: 284ms\tremaining: 68.8ms\n",
      "161:\tlearn: 1807567.7155305\ttotal: 286ms\tremaining: 67ms\n",
      "162:\tlearn: 1807095.7489387\ttotal: 288ms\tremaining: 65.3ms\n",
      "163:\tlearn: 1803891.2448136\ttotal: 289ms\tremaining: 63.5ms\n",
      "164:\tlearn: 1802951.5392458\ttotal: 291ms\tremaining: 61.7ms\n",
      "165:\tlearn: 1801270.2382910\ttotal: 293ms\tremaining: 59.9ms\n",
      "166:\tlearn: 1799007.5310321\ttotal: 294ms\tremaining: 58.2ms\n",
      "167:\tlearn: 1797182.1621131\ttotal: 296ms\tremaining: 56.4ms\n",
      "168:\tlearn: 1796433.4524307\ttotal: 298ms\tremaining: 54.6ms\n",
      "169:\tlearn: 1795532.0960458\ttotal: 300ms\tremaining: 53ms\n",
      "170:\tlearn: 1795019.6217341\ttotal: 302ms\tremaining: 51.2ms\n"
     ]
    },
    {
     "name": "stdout",
     "output_type": "stream",
     "text": [
      "171:\tlearn: 1792803.2795040\ttotal: 304ms\tremaining: 49.5ms\n",
      "172:\tlearn: 1791678.2092966\ttotal: 306ms\tremaining: 47.8ms\n",
      "173:\tlearn: 1790577.5545648\ttotal: 308ms\tremaining: 46ms\n",
      "174:\tlearn: 1789449.5892491\ttotal: 309ms\tremaining: 44.2ms\n",
      "175:\tlearn: 1788241.0398822\ttotal: 311ms\tremaining: 42.4ms\n",
      "176:\tlearn: 1785911.4967534\ttotal: 313ms\tremaining: 40.6ms\n",
      "177:\tlearn: 1785036.7740348\ttotal: 315ms\tremaining: 38.9ms\n",
      "178:\tlearn: 1783623.8139910\ttotal: 316ms\tremaining: 37.1ms\n",
      "179:\tlearn: 1782145.0958295\ttotal: 318ms\tremaining: 35.3ms\n",
      "180:\tlearn: 1781067.2142716\ttotal: 319ms\tremaining: 33.5ms\n",
      "181:\tlearn: 1780248.3812871\ttotal: 321ms\tremaining: 31.7ms\n",
      "182:\tlearn: 1779104.4965336\ttotal: 322ms\tremaining: 29.9ms\n",
      "183:\tlearn: 1777768.8638060\ttotal: 324ms\tremaining: 28.1ms\n",
      "184:\tlearn: 1776059.7583917\ttotal: 325ms\tremaining: 26.4ms\n",
      "185:\tlearn: 1773462.8410616\ttotal: 327ms\tremaining: 24.6ms\n",
      "186:\tlearn: 1771963.7156901\ttotal: 329ms\tremaining: 22.9ms\n",
      "187:\tlearn: 1770763.1347837\ttotal: 330ms\tremaining: 21.1ms\n",
      "188:\tlearn: 1770253.8733364\ttotal: 332ms\tremaining: 19.3ms\n",
      "189:\tlearn: 1769697.5996839\ttotal: 333ms\tremaining: 17.5ms\n",
      "190:\tlearn: 1768228.8730410\ttotal: 335ms\tremaining: 15.8ms\n",
      "191:\tlearn: 1767150.5680981\ttotal: 337ms\tremaining: 14ms\n",
      "192:\tlearn: 1765850.8730456\ttotal: 339ms\tremaining: 12.3ms\n",
      "193:\tlearn: 1764398.5445779\ttotal: 341ms\tremaining: 10.5ms\n",
      "194:\tlearn: 1763726.6133147\ttotal: 343ms\tremaining: 8.79ms\n",
      "195:\tlearn: 1762310.0829080\ttotal: 344ms\tremaining: 7.03ms\n",
      "196:\tlearn: 1761817.7556945\ttotal: 346ms\tremaining: 5.27ms\n",
      "197:\tlearn: 1759793.1452456\ttotal: 348ms\tremaining: 3.51ms\n",
      "198:\tlearn: 1757904.2617828\ttotal: 349ms\tremaining: 1.75ms\n",
      "199:\tlearn: 1755677.3187875\ttotal: 351ms\tremaining: 0us\n",
      "######## R-squared (R2) : \n",
      "TRAIN : 0.4236926156835624\n",
      "TEST : 0.3299113898341891\n",
      "Root Mean Squared Error (RMSE): 2639544.060449095\n"
     ]
    },
    {
     "data": {
      "text/plain": [
       "array([ 8.01831891e+06,  3.63551936e+04,  7.64610787e+05, ...,\n",
       "        7.99369892e+04, -3.67814183e+04,  5.90020933e+03])"
      ]
     },
     "execution_count": 163,
     "metadata": {},
     "output_type": "execute_result"
    }
   ],
   "source": [
    "# Identifier les caractéristiques catégorielles\n",
    "categorical_features = ['genre','distributeur', 'nationalites', 'langue_d_origine','type_film']\n",
    "\n",
    "# Sélectionner automatiquement les caractéristiques numériques en filtrant les colonnes du DataFrame X\n",
    "numerical_features = X.select_dtypes(include=['int64', 'float64']).columns.tolist()\n",
    "\n",
    "cbe_encoder = ce.cat_boost.CatBoostEncoder()\n",
    "\n",
    "# Créer un pipeline pour les prétraitements\n",
    "preprocessor = ColumnTransformer(\n",
    "    transformers=[\n",
    "        ('num', StandardScaler(), numerical_features),\n",
    "        ('cat', cbe_encoder, categorical_features)\n",
    "    ])\n",
    "\n",
    "# Créer le modèle CatBoost\n",
    "model = CatBoostRegressor(iterations=200, depth=6, learning_rate=0.05, loss_function='RMSE')\n",
    "\n",
    "# Créer le pipeline\n",
    "pipeline = Pipeline([\n",
    "        ('preprocessor', preprocessor), \n",
    "        ('model', model)\n",
    "])\n",
    "\n",
    "# Entraîner le modèle sur les données d'entraînement\n",
    "pipeline.fit(X_train, y_train)\n",
    "\n",
    "# Faire des prédictions sur les données de test\n",
    "y_pred = pipeline.predict(X_test)\n",
    "\n",
    "y_pred_train = pipeline.predict(X_train)\n",
    "\n",
    "# print(pipeline.get_best_score())\n",
    "\n",
    "print(\"######## R-squared (R2) : \")\n",
    "print(\"TRAIN :\", r2_score(y_train, y_pred_train))\n",
    "print(\"TEST :\", r2_score(y_test, y_pred))\n",
    "\n",
    "# Évaluer les performances du modèle (par exemple, RMSE pour la régression)\n",
    "from sklearn.metrics import mean_squared_error\n",
    "rmse = mean_squared_error(y_test, y_pred, squared=False)\n",
    "print(\"Root Mean Squared Error (RMSE):\", rmse)\n",
    "y_pred\n"
   ]
  },
  {
   "cell_type": "code",
   "execution_count": 164,
   "metadata": {},
   "outputs": [
    {
     "data": {
      "text/plain": [
       "['../API/best_model.joblib']"
      ]
     },
     "execution_count": 164,
     "metadata": {},
     "output_type": "execute_result"
    }
   ],
   "source": [
    "import joblib\n",
    "\n",
    "joblib.dump(pipeline, 'best_model.joblib')\n",
    "joblib.dump(pipeline, '../API/best_model.joblib')"
   ]
  },
  {
   "cell_type": "code",
   "execution_count": 165,
   "metadata": {},
   "outputs": [],
   "source": [
    "# # Pour exporter le modèle CatBoost vers un fichier pickle\n",
    "# with open('../Modeling/best_model.pkl', 'wb') as f:\n",
    "#     pickle.dump(pipeline, f)"
   ]
  },
  {
   "cell_type": "code",
   "execution_count": 166,
   "metadata": {},
   "outputs": [],
   "source": [
    "# # Charger le modèle à partir du fichier pickle\n",
    "# with open('chemin/vers/votre/modele_catboost.pkl', 'rb') as f:\n",
    "#     loaded_model = pickle.load(f)\n",
    "\n",
    "# # Maintenant, vous pouvez utiliser loaded_model pour faire des prédictions\n",
    "# y_pred_loaded = loaded_model.predict(X_test)"
   ]
  }
 ],
 "metadata": {
  "kernelspec": {
   "display_name": "myenv",
   "language": "python",
   "name": "python3"
  },
  "language_info": {
   "codemirror_mode": {
    "name": "ipython",
    "version": 3
   },
   "file_extension": ".py",
   "mimetype": "text/x-python",
   "name": "python",
   "nbconvert_exporter": "python",
   "pygments_lexer": "ipython3",
   "version": "3.10.12"
  },
  "orig_nbformat": 4
 },
 "nbformat": 4,
 "nbformat_minor": 2
}
