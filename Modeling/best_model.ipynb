{
 "cells": [
  {
   "cell_type": "markdown",
   "metadata": {},
   "source": [
    "### CATBOOST Model with CatBoostEncoder"
   ]
  },
  {
   "cell_type": "code",
   "execution_count": 75,
   "metadata": {},
   "outputs": [],
   "source": [
    "import pandas as pd\n",
    "# from sklearn.model_selection import train_test_split\n",
    "# from sklearn.metrics import r2_score\n",
    "# import category_encoders as ce\n",
    "# from catboost import CatBoostRegressor    # For regression tasks use CatBoostRegressor, for classification use CatBoostClassifier\n",
    "# from sklearn.pipeline import Pipeline\n",
    "# from sklearn.compose import ColumnTransformer\n",
    "# from sklearn.preprocessing import StandardScaler\n",
    "# from sklearn.metrics import mean_squared_error  # For regression tasks\n",
    "import pickle\n",
    "import os\n",
    "from dotenv import load_dotenv\n",
    "import pyodbc"
   ]
  },
  {
   "cell_type": "code",
   "execution_count": 76,
   "metadata": {},
   "outputs": [],
   "source": [
    "# # import dataset\n",
    "# df = pd.read_csv('dataset_gold.csv')"
   ]
  },
  {
   "cell_type": "code",
   "execution_count": 77,
   "metadata": {},
   "outputs": [
    {
     "name": "stderr",
     "output_type": "stream",
     "text": [
      "/tmp/ipykernel_13210/415462830.py:17: UserWarning: pandas only supports SQLAlchemy connectable (engine/connection) or database string URI or sqlite3 DBAPI2 connection. Other DBAPI2 objects are not tested. Please consider using SQLAlchemy.\n",
      "  df = pd.read_sql(query, conn)\n"
     ]
    },
    {
     "ename": "DatabaseError",
     "evalue": "Execution failed on sql 'SELECT * FROM [dbo].[dataset_model]': ('42S02', \"[42S02] [Microsoft][ODBC Driver 18 for SQL Server][SQL Server]Invalid object name 'dbo.dataset_model'. (208) (SQLExecDirectW)\")",
     "output_type": "error",
     "traceback": [
      "\u001b[0;31m---------------------------------------------------------------------------\u001b[0m",
      "\u001b[0;31mProgrammingError\u001b[0m                          Traceback (most recent call last)",
      "File \u001b[0;32m~/miniconda3/envs/myenv/lib/python3.10/site-packages/pandas/io/sql.py:2202\u001b[0m, in \u001b[0;36mSQLiteDatabase.execute\u001b[0;34m(self, sql, params)\u001b[0m\n\u001b[1;32m   2201\u001b[0m \u001b[39mtry\u001b[39;00m:\n\u001b[0;32m-> 2202\u001b[0m     cur\u001b[39m.\u001b[39;49mexecute(sql, \u001b[39m*\u001b[39;49margs)\n\u001b[1;32m   2203\u001b[0m     \u001b[39mreturn\u001b[39;00m cur\n",
      "\u001b[0;31mProgrammingError\u001b[0m: ('42S02', \"[42S02] [Microsoft][ODBC Driver 18 for SQL Server][SQL Server]Invalid object name 'dbo.dataset_model'. (208) (SQLExecDirectW)\")",
      "\nThe above exception was the direct cause of the following exception:\n",
      "\u001b[0;31mDatabaseError\u001b[0m                             Traceback (most recent call last)",
      "Cell \u001b[0;32mIn[77], line 17\u001b[0m\n\u001b[1;32m     13\u001b[0m cursor \u001b[39m=\u001b[39m conn\u001b[39m.\u001b[39mcursor()\n\u001b[1;32m     15\u001b[0m query \u001b[39m=\u001b[39m \u001b[39m\"\u001b[39m\u001b[39mSELECT * FROM [dbo].[dataset_model]\u001b[39m\u001b[39m\"\u001b[39m\n\u001b[0;32m---> 17\u001b[0m df \u001b[39m=\u001b[39m pd\u001b[39m.\u001b[39;49mread_sql(query, conn)\n\u001b[1;32m     19\u001b[0m \u001b[39m# Fermer la connexion après utilisation\u001b[39;00m\n\u001b[1;32m     20\u001b[0m conn\u001b[39m.\u001b[39mclose()\n",
      "File \u001b[0;32m~/miniconda3/envs/myenv/lib/python3.10/site-packages/pandas/io/sql.py:635\u001b[0m, in \u001b[0;36mread_sql\u001b[0;34m(sql, con, index_col, coerce_float, params, parse_dates, columns, chunksize, dtype_backend, dtype)\u001b[0m\n\u001b[1;32m    633\u001b[0m \u001b[39mwith\u001b[39;00m pandasSQL_builder(con) \u001b[39mas\u001b[39;00m pandas_sql:\n\u001b[1;32m    634\u001b[0m     \u001b[39mif\u001b[39;00m \u001b[39misinstance\u001b[39m(pandas_sql, SQLiteDatabase):\n\u001b[0;32m--> 635\u001b[0m         \u001b[39mreturn\u001b[39;00m pandas_sql\u001b[39m.\u001b[39;49mread_query(\n\u001b[1;32m    636\u001b[0m             sql,\n\u001b[1;32m    637\u001b[0m             index_col\u001b[39m=\u001b[39;49mindex_col,\n\u001b[1;32m    638\u001b[0m             params\u001b[39m=\u001b[39;49mparams,\n\u001b[1;32m    639\u001b[0m             coerce_float\u001b[39m=\u001b[39;49mcoerce_float,\n\u001b[1;32m    640\u001b[0m             parse_dates\u001b[39m=\u001b[39;49mparse_dates,\n\u001b[1;32m    641\u001b[0m             chunksize\u001b[39m=\u001b[39;49mchunksize,\n\u001b[1;32m    642\u001b[0m             dtype_backend\u001b[39m=\u001b[39;49mdtype_backend,  \u001b[39m# type: ignore[arg-type]\u001b[39;49;00m\n\u001b[1;32m    643\u001b[0m             dtype\u001b[39m=\u001b[39;49mdtype,\n\u001b[1;32m    644\u001b[0m         )\n\u001b[1;32m    646\u001b[0m     \u001b[39mtry\u001b[39;00m:\n\u001b[1;32m    647\u001b[0m         _is_table_name \u001b[39m=\u001b[39m pandas_sql\u001b[39m.\u001b[39mhas_table(sql)\n",
      "File \u001b[0;32m~/miniconda3/envs/myenv/lib/python3.10/site-packages/pandas/io/sql.py:2266\u001b[0m, in \u001b[0;36mSQLiteDatabase.read_query\u001b[0;34m(self, sql, index_col, coerce_float, parse_dates, params, chunksize, dtype, dtype_backend)\u001b[0m\n\u001b[1;32m   2255\u001b[0m \u001b[39mdef\u001b[39;00m \u001b[39mread_query\u001b[39m(\n\u001b[1;32m   2256\u001b[0m     \u001b[39mself\u001b[39m,\n\u001b[1;32m   2257\u001b[0m     sql,\n\u001b[0;32m   (...)\u001b[0m\n\u001b[1;32m   2264\u001b[0m     dtype_backend: DtypeBackend \u001b[39m|\u001b[39m Literal[\u001b[39m\"\u001b[39m\u001b[39mnumpy\u001b[39m\u001b[39m\"\u001b[39m] \u001b[39m=\u001b[39m \u001b[39m\"\u001b[39m\u001b[39mnumpy\u001b[39m\u001b[39m\"\u001b[39m,\n\u001b[1;32m   2265\u001b[0m ) \u001b[39m-\u001b[39m\u001b[39m>\u001b[39m DataFrame \u001b[39m|\u001b[39m Iterator[DataFrame]:\n\u001b[0;32m-> 2266\u001b[0m     cursor \u001b[39m=\u001b[39m \u001b[39mself\u001b[39;49m\u001b[39m.\u001b[39;49mexecute(sql, params)\n\u001b[1;32m   2267\u001b[0m     columns \u001b[39m=\u001b[39m [col_desc[\u001b[39m0\u001b[39m] \u001b[39mfor\u001b[39;00m col_desc \u001b[39min\u001b[39;00m cursor\u001b[39m.\u001b[39mdescription]\n\u001b[1;32m   2269\u001b[0m     \u001b[39mif\u001b[39;00m chunksize \u001b[39mis\u001b[39;00m \u001b[39mnot\u001b[39;00m \u001b[39mNone\u001b[39;00m:\n",
      "File \u001b[0;32m~/miniconda3/envs/myenv/lib/python3.10/site-packages/pandas/io/sql.py:2214\u001b[0m, in \u001b[0;36mSQLiteDatabase.execute\u001b[0;34m(self, sql, params)\u001b[0m\n\u001b[1;32m   2211\u001b[0m     \u001b[39mraise\u001b[39;00m ex \u001b[39mfrom\u001b[39;00m \u001b[39minner_exc\u001b[39;00m\n\u001b[1;32m   2213\u001b[0m ex \u001b[39m=\u001b[39m DatabaseError(\u001b[39mf\u001b[39m\u001b[39m\"\u001b[39m\u001b[39mExecution failed on sql \u001b[39m\u001b[39m'\u001b[39m\u001b[39m{\u001b[39;00msql\u001b[39m}\u001b[39;00m\u001b[39m'\u001b[39m\u001b[39m: \u001b[39m\u001b[39m{\u001b[39;00mexc\u001b[39m}\u001b[39;00m\u001b[39m\"\u001b[39m)\n\u001b[0;32m-> 2214\u001b[0m \u001b[39mraise\u001b[39;00m ex \u001b[39mfrom\u001b[39;00m \u001b[39mexc\u001b[39;00m\n",
      "\u001b[0;31mDatabaseError\u001b[0m: Execution failed on sql 'SELECT * FROM [dbo].[dataset_model]': ('42S02', \"[42S02] [Microsoft][ODBC Driver 18 for SQL Server][SQL Server]Invalid object name 'dbo.dataset_model'. (208) (SQLExecDirectW)\")"
     ]
    }
   ],
   "source": [
    "# Load environment variables\n",
    "load_dotenv()\n",
    "username = os.getenv('DB_USER')\n",
    "password = os.getenv('DB_PASSWORD')\n",
    "server = os.getenv('DB_SERVER')\n",
    "database = os.getenv('DB_name')\n",
    "DB_Driver = os.getenv('DB_Driver')\n",
    "\n",
    "# Établir la connexion à votre base de données\n",
    "connection_string = f'Driver={DB_Driver};Server=tcp:{server},1433;Database={database};Uid={username};Pwd={password};Encrypt=yes;TrustServerCertificate=no;Connection Timeout=30;'\n",
    "conn = pyodbc.connect(connection_string)\n",
    "\n",
    "cursor = conn.cursor()\n",
    "\n",
    "query = \"SELECT * FROM [dbo].[dataset_model]\"\n",
    "\n",
    "df = pd.read_sql(query, conn)\n",
    "\n",
    "# Fermer la connexion après utilisation\n",
    "conn.close()"
   ]
  },
  {
   "cell_type": "code",
   "execution_count": null,
   "metadata": {},
   "outputs": [
    {
     "name": "stdout",
     "output_type": "stream",
     "text": [
      "<class 'pandas.core.frame.DataFrame'>\n",
      "RangeIndex: 3488 entries, 0 to 3487\n",
      "Data columns (total 16 columns):\n",
      " #   Column            Non-Null Count  Dtype \n",
      "---  ------            --------------  ----- \n",
      " 0   id                3488 non-null   int64 \n",
      " 1   titre             3488 non-null   object\n",
      " 2   genre             3488 non-null   object\n",
      " 3   duree             3488 non-null   object\n",
      " 4   realisateur       3488 non-null   object\n",
      " 5   distributeur      3488 non-null   object\n",
      " 6   acteurs           0 non-null      object\n",
      " 7   nationalites      3488 non-null   object\n",
      " 8   langue_d_origine  3488 non-null   object\n",
      " 9   type_film         3488 non-null   object\n",
      " 10  annee_production  3488 non-null   object\n",
      " 11  nombre_article    3488 non-null   object\n",
      " 12  description       3488 non-null   object\n",
      " 13  film_id_allocine  3488 non-null   object\n",
      " 14  image             3488 non-null   object\n",
      " 15  boxoffice         3488 non-null   object\n",
      "dtypes: int64(1), object(15)\n",
      "memory usage: 436.1+ KB\n"
     ]
    }
   ],
   "source": [
    "df.info()"
   ]
  },
  {
   "cell_type": "code",
   "execution_count": null,
   "metadata": {},
   "outputs": [],
   "source": [
    "# X = df.drop(['boxoffice','titre','date','acteurs','awards','box_office_total',\n",
    "#         'description','nominations','note_presse','note_spectateurs', 'nombre_article','genres'], axis=1)\n",
    "# y = df['boxoffice']\n",
    "# X_train, X_test, y_train, y_test = train_test_split(X, y, train_size=0.8, shuffle=True, random_state=42)"
   ]
  },
  {
   "cell_type": "code",
   "execution_count": null,
   "metadata": {},
   "outputs": [],
   "source": [
    "# # Identifier les caractéristiques catégorielles\n",
    "# categorical_features = ['distributeur','réalisateur', 'nationalités', 'langue_d_origine','type_film','acteurs_connus']\n",
    "\n",
    "# # Sélectionner automatiquement les caractéristiques numériques en filtrant les colonnes du DataFrame X\n",
    "# numerical_features = X.select_dtypes(include=['int64', 'float64']).columns.tolist()\n",
    "\n",
    "# cbe_encoder = ce.cat_boost.CatBoostEncoder()\n",
    "\n",
    "# # Créer un pipeline pour les prétraitements\n",
    "# preprocessor = ColumnTransformer(\n",
    "#     transformers=[\n",
    "#         ('num', StandardScaler(), numerical_features),\n",
    "#         ('cat', cbe_encoder, categorical_features)\n",
    "#     ])\n",
    "\n",
    "# # Créer le modèle CatBoost\n",
    "# model = CatBoostRegressor(iterations=200, depth=6, learning_rate=0.05, loss_function='RMSE')\n",
    "\n",
    "# # Créer le pipeline\n",
    "# pipeline = Pipeline([\n",
    "#         ('preprocessor', preprocessor), \n",
    "#         ('model', model)\n",
    "# ])\n",
    "\n",
    "# # Entraîner le modèle sur les données d'entraînement\n",
    "# pipeline.fit(X_train, y_train)\n",
    "\n",
    "# # Faire des prédictions sur les données de test\n",
    "# y_pred = pipeline.predict(X_test)\n",
    "\n",
    "# y_pred_train = pipeline.predict(X_train)\n",
    "\n",
    "# # print(pipeline.get_best_score())\n",
    "\n",
    "# print(\"######## R-squared (R2) : \")\n",
    "# print(\"TRAIN :\", r2_score(y_train, y_pred_train))\n",
    "# print(\"TEST :\", r2_score(y_test, y_pred))\n",
    "\n",
    "# # Évaluer les performances du modèle (par exemple, RMSE pour la régression)\n",
    "# from sklearn.metrics import mean_squared_error\n",
    "# rmse = mean_squared_error(y_test, y_pred, squared=False)\n",
    "# print(\"Root Mean Squared Error (RMSE):\", rmse)\n"
   ]
  },
  {
   "cell_type": "code",
   "execution_count": null,
   "metadata": {},
   "outputs": [],
   "source": [
    "# # Pour exporter le modèle CatBoost vers un fichier pickle\n",
    "# with open('../Modeling/best_model.pkl', 'wb') as f:\n",
    "#     pickle.dump(pipeline, f)"
   ]
  },
  {
   "cell_type": "code",
   "execution_count": null,
   "metadata": {},
   "outputs": [],
   "source": [
    "# # Charger le modèle à partir du fichier pickle\n",
    "# with open('chemin/vers/votre/modele_catboost.pkl', 'rb') as f:\n",
    "#     loaded_model = pickle.load(f)\n",
    "\n",
    "# # Maintenant, vous pouvez utiliser loaded_model pour faire des prédictions\n",
    "# y_pred_loaded = loaded_model.predict(X_test)"
   ]
  }
 ],
 "metadata": {
  "kernelspec": {
   "display_name": "myenv",
   "language": "python",
   "name": "python3"
  },
  "language_info": {
   "codemirror_mode": {
    "name": "ipython",
    "version": 3
   },
   "file_extension": ".py",
   "mimetype": "text/x-python",
   "name": "python",
   "nbconvert_exporter": "python",
   "pygments_lexer": "ipython3",
   "version": "3.10.12"
  },
  "orig_nbformat": 4
 },
 "nbformat": 4,
 "nbformat_minor": 2
}
