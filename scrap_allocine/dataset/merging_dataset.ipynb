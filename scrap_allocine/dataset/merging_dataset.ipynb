{
 "cells": [
  {
   "cell_type": "markdown",
   "metadata": {},
   "source": [
    "# Merging the datasets"
   ]
  },
  {
   "cell_type": "code",
   "execution_count": 1,
   "metadata": {},
   "outputs": [],
   "source": [
    "import pandas as pd"
   ]
  },
  {
   "cell_type": "markdown",
   "metadata": {},
   "source": [
    "## Import CSV"
   ]
  },
  {
   "cell_type": "code",
   "execution_count": 2,
   "metadata": {},
   "outputs": [],
   "source": [
    "boxoffice_2022 = pd.read_csv('boxoffice_2022.csv')\n",
    "boxoffice_2021 = pd.read_csv('boxoffice_2021.csv')\n",
    "boxoffice_2020 = pd.read_csv('boxoffice_2020.csv')\n",
    "merged_boxoffice = pd.concat([boxoffice_2020, boxoffice_2021, boxoffice_2022])"
   ]
  },
  {
   "cell_type": "code",
   "execution_count": 3,
   "metadata": {},
   "outputs": [],
   "source": [
    "movies_2022 = pd.read_csv('movies_2022.csv')\n",
    "movies_2021 = pd.read_csv('movies_2021.csv')\n",
    "movies_2020 = pd.read_csv('movies_2020.csv')\n",
    "merged_movies = pd.concat([movies_2020, movies_2021, movies_2022])"
   ]
  },
  {
   "cell_type": "markdown",
   "metadata": {},
   "source": [
    "## Boxoffice dataset"
   ]
  },
  {
   "cell_type": "code",
   "execution_count": 4,
   "metadata": {},
   "outputs": [
    {
     "name": "stdout",
     "output_type": "stream",
     "text": [
      "<class 'pandas.core.frame.DataFrame'>\n",
      "Int64Index: 1212 entries, 0 to 444\n",
      "Data columns (total 2 columns):\n",
      " #   Column     Non-Null Count  Dtype \n",
      "---  ------     --------------  ----- \n",
      " 0   titre      1212 non-null   object\n",
      " 1   boxoffice  1211 non-null   object\n",
      "dtypes: object(2)\n",
      "memory usage: 28.4+ KB\n"
     ]
    }
   ],
   "source": [
    "merged_boxoffice.info()"
   ]
  },
  {
   "cell_type": "code",
   "execution_count": 5,
   "metadata": {},
   "outputs": [],
   "source": [
    "merged_boxoffice = merged_boxoffice.drop_duplicates()"
   ]
  },
  {
   "cell_type": "code",
   "execution_count": 6,
   "metadata": {},
   "outputs": [
    {
     "name": "stdout",
     "output_type": "stream",
     "text": [
      "<class 'pandas.core.frame.DataFrame'>\n",
      "Int64Index: 1187 entries, 0 to 433\n",
      "Data columns (total 2 columns):\n",
      " #   Column     Non-Null Count  Dtype \n",
      "---  ------     --------------  ----- \n",
      " 0   titre      1187 non-null   object\n",
      " 1   boxoffice  1186 non-null   object\n",
      "dtypes: object(2)\n",
      "memory usage: 27.8+ KB\n"
     ]
    }
   ],
   "source": [
    "merged_boxoffice.info()"
   ]
  },
  {
   "cell_type": "code",
   "execution_count": 7,
   "metadata": {},
   "outputs": [
    {
     "data": {
      "text/html": [
       "<div>\n",
       "<style scoped>\n",
       "    .dataframe tbody tr th:only-of-type {\n",
       "        vertical-align: middle;\n",
       "    }\n",
       "\n",
       "    .dataframe tbody tr th {\n",
       "        vertical-align: top;\n",
       "    }\n",
       "\n",
       "    .dataframe thead th {\n",
       "        text-align: right;\n",
       "    }\n",
       "</style>\n",
       "<table border=\"1\" class=\"dataframe\">\n",
       "  <thead>\n",
       "    <tr style=\"text-align: right;\">\n",
       "      <th></th>\n",
       "      <th>titre</th>\n",
       "      <th>boxoffice</th>\n",
       "    </tr>\n",
       "  </thead>\n",
       "  <tbody>\n",
       "    <tr>\n",
       "      <th>0</th>\n",
       "      <td>La Voix d'Aida</td>\n",
       "      <td>17 087</td>\n",
       "    </tr>\n",
       "    <tr>\n",
       "      <th>1</th>\n",
       "      <td>Le Diable n'existe pas</td>\n",
       "      <td>26 645</td>\n",
       "    </tr>\n",
       "    <tr>\n",
       "      <th>2</th>\n",
       "      <td>Les Jeunes amants</td>\n",
       "      <td>152 312</td>\n",
       "    </tr>\n",
       "    <tr>\n",
       "      <th>3</th>\n",
       "      <td>De son vivant</td>\n",
       "      <td>90 106</td>\n",
       "    </tr>\n",
       "    <tr>\n",
       "      <th>4</th>\n",
       "      <td>Falling</td>\n",
       "      <td>18 436</td>\n",
       "    </tr>\n",
       "  </tbody>\n",
       "</table>\n",
       "</div>"
      ],
      "text/plain": [
       "                    titre boxoffice\n",
       "0          La Voix d'Aida    17 087\n",
       "1  Le Diable n'existe pas    26 645\n",
       "2       Les Jeunes amants   152 312\n",
       "3           De son vivant    90 106\n",
       "4                 Falling    18 436"
      ]
     },
     "execution_count": 7,
     "metadata": {},
     "output_type": "execute_result"
    }
   ],
   "source": [
    "merged_boxoffice.head(5)"
   ]
  },
  {
   "cell_type": "code",
   "execution_count": 8,
   "metadata": {},
   "outputs": [
    {
     "data": {
      "text/html": [
       "<div>\n",
       "<style scoped>\n",
       "    .dataframe tbody tr th:only-of-type {\n",
       "        vertical-align: middle;\n",
       "    }\n",
       "\n",
       "    .dataframe tbody tr th {\n",
       "        vertical-align: top;\n",
       "    }\n",
       "\n",
       "    .dataframe thead th {\n",
       "        text-align: right;\n",
       "    }\n",
       "</style>\n",
       "<table border=\"1\" class=\"dataframe\">\n",
       "  <thead>\n",
       "    <tr style=\"text-align: right;\">\n",
       "      <th></th>\n",
       "      <th>titre</th>\n",
       "      <th>boxoffice</th>\n",
       "    </tr>\n",
       "  </thead>\n",
       "  <tbody>\n",
       "    <tr>\n",
       "      <th>379</th>\n",
       "      <td>Statute of Limitations</td>\n",
       "      <td>NaN</td>\n",
       "    </tr>\n",
       "  </tbody>\n",
       "</table>\n",
       "</div>"
      ],
      "text/plain": [
       "                      titre boxoffice\n",
       "379  Statute of Limitations       NaN"
      ]
     },
     "execution_count": 8,
     "metadata": {},
     "output_type": "execute_result"
    }
   ],
   "source": [
    "lignes_avec_valeurs_nulles = merged_boxoffice[merged_boxoffice.isnull().any(axis=1)]\n",
    "lignes_avec_valeurs_nulles"
   ]
  },
  {
   "cell_type": "code",
   "execution_count": 9,
   "metadata": {},
   "outputs": [],
   "source": [
    "merged_boxoffice = merged_boxoffice.dropna()"
   ]
  },
  {
   "cell_type": "markdown",
   "metadata": {},
   "source": [
    "## Movies dataset"
   ]
  },
  {
   "cell_type": "code",
   "execution_count": 10,
   "metadata": {},
   "outputs": [
    {
     "name": "stdout",
     "output_type": "stream",
     "text": [
      "<class 'pandas.core.frame.DataFrame'>\n",
      "Int64Index: 7000 entries, 0 to 2591\n",
      "Data columns (total 18 columns):\n",
      " #   Column            Non-Null Count  Dtype  \n",
      "---  ------            --------------  -----  \n",
      " 0   titre             7000 non-null   object \n",
      " 1   date              1669 non-null   object \n",
      " 2   genre             2551 non-null   object \n",
      " 3   durée             4976 non-null   float64\n",
      " 4   réalisateur       6768 non-null   object \n",
      " 5   distributeur      2275 non-null   object \n",
      " 6   acteurs           6093 non-null   object \n",
      " 7   titre_original    1916 non-null   object \n",
      " 8   nationalités      1219 non-null   object \n",
      " 9   langue_d_origine  7000 non-null   object \n",
      " 10  type_film         7000 non-null   object \n",
      " 11  annee_production  7000 non-null   int64  \n",
      " 12  budget            7000 non-null   object \n",
      " 13  note_presse       3764 non-null   object \n",
      " 14  note_spectateurs  1289 non-null   object \n",
      " 15  nombre_article    3193 non-null   object \n",
      " 16  recompenses       604 non-null    object \n",
      " 17  description       6464 non-null   object \n",
      "dtypes: float64(1), int64(1), object(16)\n",
      "memory usage: 1.0+ MB\n"
     ]
    }
   ],
   "source": [
    "merged_movies.info()"
   ]
  },
  {
   "cell_type": "code",
   "execution_count": 11,
   "metadata": {},
   "outputs": [],
   "source": [
    "merged_movies = merged_movies.drop_duplicates()"
   ]
  },
  {
   "cell_type": "code",
   "execution_count": 12,
   "metadata": {},
   "outputs": [
    {
     "name": "stdout",
     "output_type": "stream",
     "text": [
      "<class 'pandas.core.frame.DataFrame'>\n",
      "Int64Index: 6969 entries, 0 to 2591\n",
      "Data columns (total 18 columns):\n",
      " #   Column            Non-Null Count  Dtype  \n",
      "---  ------            --------------  -----  \n",
      " 0   titre             6969 non-null   object \n",
      " 1   date              1638 non-null   object \n",
      " 2   genre             2526 non-null   object \n",
      " 3   durée             4945 non-null   float64\n",
      " 4   réalisateur       6737 non-null   object \n",
      " 5   distributeur      2244 non-null   object \n",
      " 6   acteurs           6062 non-null   object \n",
      " 7   titre_original    1903 non-null   object \n",
      " 8   nationalités      1211 non-null   object \n",
      " 9   langue_d_origine  6969 non-null   object \n",
      " 10  type_film         6969 non-null   object \n",
      " 11  annee_production  6969 non-null   int64  \n",
      " 12  budget            6969 non-null   object \n",
      " 13  note_presse       3733 non-null   object \n",
      " 14  note_spectateurs  1258 non-null   object \n",
      " 15  nombre_article    3162 non-null   object \n",
      " 16  recompenses       596 non-null    object \n",
      " 17  description       6439 non-null   object \n",
      "dtypes: float64(1), int64(1), object(16)\n",
      "memory usage: 1.0+ MB\n"
     ]
    }
   ],
   "source": [
    "merged_movies.info()"
   ]
  },
  {
   "cell_type": "markdown",
   "metadata": {},
   "source": [
    "## Merging the datasets boxoffice and movies"
   ]
  },
  {
   "cell_type": "code",
   "execution_count": 13,
   "metadata": {},
   "outputs": [],
   "source": [
    "merged_dataset = pd.merge(merged_movies, merged_boxoffice, on='titre')"
   ]
  },
  {
   "cell_type": "code",
   "execution_count": 14,
   "metadata": {},
   "outputs": [
    {
     "name": "stdout",
     "output_type": "stream",
     "text": [
      "<class 'pandas.core.frame.DataFrame'>\n",
      "Int64Index: 1182 entries, 0 to 1181\n",
      "Data columns (total 19 columns):\n",
      " #   Column            Non-Null Count  Dtype  \n",
      "---  ------            --------------  -----  \n",
      " 0   titre             1182 non-null   object \n",
      " 1   date              1073 non-null   object \n",
      " 2   genre             681 non-null    object \n",
      " 3   durée             1170 non-null   float64\n",
      " 4   réalisateur       1181 non-null   object \n",
      " 5   distributeur      1110 non-null   object \n",
      " 6   acteurs           1150 non-null   object \n",
      " 7   titre_original    364 non-null    object \n",
      " 8   nationalités      368 non-null    object \n",
      " 9   langue_d_origine  1182 non-null   object \n",
      " 10  type_film         1182 non-null   object \n",
      " 11  annee_production  1182 non-null   int64  \n",
      " 12  budget            1182 non-null   object \n",
      " 13  note_presse       1159 non-null   object \n",
      " 14  note_spectateurs  1016 non-null   object \n",
      " 15  nombre_article    1135 non-null   object \n",
      " 16  recompenses       397 non-null    object \n",
      " 17  description       1092 non-null   object \n",
      " 18  boxoffice         1182 non-null   object \n",
      "dtypes: float64(1), int64(1), object(17)\n",
      "memory usage: 184.7+ KB\n"
     ]
    }
   ],
   "source": [
    "merged_dataset.info()"
   ]
  },
  {
   "cell_type": "code",
   "execution_count": 15,
   "metadata": {},
   "outputs": [
    {
     "data": {
      "text/html": [
       "<div>\n",
       "<style scoped>\n",
       "    .dataframe tbody tr th:only-of-type {\n",
       "        vertical-align: middle;\n",
       "    }\n",
       "\n",
       "    .dataframe tbody tr th {\n",
       "        vertical-align: top;\n",
       "    }\n",
       "\n",
       "    .dataframe thead th {\n",
       "        text-align: right;\n",
       "    }\n",
       "</style>\n",
       "<table border=\"1\" class=\"dataframe\">\n",
       "  <thead>\n",
       "    <tr style=\"text-align: right;\">\n",
       "      <th></th>\n",
       "      <th>titre</th>\n",
       "      <th>date</th>\n",
       "      <th>genre</th>\n",
       "      <th>durée</th>\n",
       "      <th>réalisateur</th>\n",
       "      <th>distributeur</th>\n",
       "      <th>acteurs</th>\n",
       "      <th>titre_original</th>\n",
       "      <th>nationalités</th>\n",
       "      <th>langue_d_origine</th>\n",
       "      <th>type_film</th>\n",
       "      <th>annee_production</th>\n",
       "      <th>budget</th>\n",
       "      <th>note_presse</th>\n",
       "      <th>note_spectateurs</th>\n",
       "      <th>nombre_article</th>\n",
       "      <th>recompenses</th>\n",
       "      <th>description</th>\n",
       "      <th>boxoffice</th>\n",
       "    </tr>\n",
       "  </thead>\n",
       "  <tbody>\n",
       "    <tr>\n",
       "      <th>0</th>\n",
       "      <td>Effacer l’historique</td>\n",
       "      <td>26/08/2020</td>\n",
       "      <td>NaN</td>\n",
       "      <td>106.0</td>\n",
       "      <td>Gustave Kervern</td>\n",
       "      <td>Ad Vitam</td>\n",
       "      <td>Blanche Gardin,Denis Podalydès,Corinne Masiero</td>\n",
       "      <td>NaN</td>\n",
       "      <td>France,Belgique</td>\n",
       "      <td>Français</td>\n",
       "      <td>Long-métrage</td>\n",
       "      <td>2020</td>\n",
       "      <td>-</td>\n",
       "      <td>4,0</td>\n",
       "      <td>2,2</td>\n",
       "      <td>31 articles de presse</td>\n",
       "      <td>1 prix et 2 nominations</td>\n",
       "      <td>Dans un lotissement en province, trois voisins...</td>\n",
       "      <td>256 355</td>\n",
       "    </tr>\n",
       "    <tr>\n",
       "      <th>1</th>\n",
       "      <td>Permis de construire</td>\n",
       "      <td>09/03/2022</td>\n",
       "      <td>NaN</td>\n",
       "      <td>93.0</td>\n",
       "      <td>Eric Fraticelli</td>\n",
       "      <td>Warner Bros. France</td>\n",
       "      <td>Didier Bourdon,Eric Fraticelli,Anne Consigny</td>\n",
       "      <td>NaN</td>\n",
       "      <td>NaN</td>\n",
       "      <td>Français</td>\n",
       "      <td>Long-métrage</td>\n",
       "      <td>2020</td>\n",
       "      <td>-</td>\n",
       "      <td>1,8</td>\n",
       "      <td>2,5</td>\n",
       "      <td>4 articles de presse</td>\n",
       "      <td>NaN</td>\n",
       "      <td>Dentiste à Paris, Romain vient de perdre son p...</td>\n",
       "      <td>211 995</td>\n",
       "    </tr>\n",
       "    <tr>\n",
       "      <th>2</th>\n",
       "      <td>Scooby !</td>\n",
       "      <td>08/07/2020</td>\n",
       "      <td>Animation,Famille</td>\n",
       "      <td>94.0</td>\n",
       "      <td>Tony Cervone</td>\n",
       "      <td>Warner Bros. France</td>\n",
       "      <td>Frank Welker,Will Forte,Zac Efron</td>\n",
       "      <td>Scoob!</td>\n",
       "      <td>NaN</td>\n",
       "      <td>Anglais</td>\n",
       "      <td>Long-métrage</td>\n",
       "      <td>2020</td>\n",
       "      <td>-</td>\n",
       "      <td>2,5</td>\n",
       "      <td>2,5</td>\n",
       "      <td>108 Critiques Spectateurs</td>\n",
       "      <td>NaN</td>\n",
       "      <td>Dans SCOOBY!, on découvre comment Scooby et Sa...</td>\n",
       "      <td>191 223</td>\n",
       "    </tr>\n",
       "    <tr>\n",
       "      <th>3</th>\n",
       "      <td>Josep</td>\n",
       "      <td>30/09/2020</td>\n",
       "      <td>Historique,Biopic,Drame</td>\n",
       "      <td>71.0</td>\n",
       "      <td>Aurel</td>\n",
       "      <td>Dulac Distribution</td>\n",
       "      <td>Sergi López,David Marsais,Silvia Pérez Cruz</td>\n",
       "      <td>NaN</td>\n",
       "      <td>France,Espagne,Belgique</td>\n",
       "      <td>Français, Anglais, Catalan, Espagnol</td>\n",
       "      <td>Long-métrage</td>\n",
       "      <td>2020</td>\n",
       "      <td>-</td>\n",
       "      <td>4,0</td>\n",
       "      <td>3,7</td>\n",
       "      <td>91 Critiques Spectateurs</td>\n",
       "      <td>6 prix et 2 nominations</td>\n",
       "      <td>NaN</td>\n",
       "      <td>61 028</td>\n",
       "    </tr>\n",
       "    <tr>\n",
       "      <th>4</th>\n",
       "      <td>Minari</td>\n",
       "      <td>23/06/2021</td>\n",
       "      <td>NaN</td>\n",
       "      <td>116.0</td>\n",
       "      <td>Lee Isaac Chung</td>\n",
       "      <td>ARP Sélection</td>\n",
       "      <td>Steven Yeun,Ye-Ri Han,Alan S. Kim</td>\n",
       "      <td>NaN</td>\n",
       "      <td>NaN</td>\n",
       "      <td>Coréen, Anglais</td>\n",
       "      <td>Long-métrage</td>\n",
       "      <td>2020</td>\n",
       "      <td>-</td>\n",
       "      <td>3,9</td>\n",
       "      <td>3,6</td>\n",
       "      <td>35 articles de presse</td>\n",
       "      <td>3 prix et 16 nominations</td>\n",
       "      <td>Une famille américaine d’origine sud-coréenne ...</td>\n",
       "      <td>22 413</td>\n",
       "    </tr>\n",
       "  </tbody>\n",
       "</table>\n",
       "</div>"
      ],
      "text/plain": [
       "                  titre        date                    genre  durée  \\\n",
       "0  Effacer l’historique  26/08/2020                      NaN  106.0   \n",
       "1  Permis de construire  09/03/2022                      NaN   93.0   \n",
       "2              Scooby !  08/07/2020        Animation,Famille   94.0   \n",
       "3                 Josep  30/09/2020  Historique,Biopic,Drame   71.0   \n",
       "4                Minari  23/06/2021                      NaN  116.0   \n",
       "\n",
       "       réalisateur           distributeur  \\\n",
       "0  Gustave Kervern              Ad Vitam    \n",
       "1  Eric Fraticelli   Warner Bros. France    \n",
       "2     Tony Cervone   Warner Bros. France    \n",
       "3            Aurel    Dulac Distribution    \n",
       "4  Lee Isaac Chung         ARP Sélection    \n",
       "\n",
       "                                          acteurs titre_original  \\\n",
       "0  Blanche Gardin,Denis Podalydès,Corinne Masiero            NaN   \n",
       "1    Didier Bourdon,Eric Fraticelli,Anne Consigny            NaN   \n",
       "2               Frank Welker,Will Forte,Zac Efron         Scoob!   \n",
       "3     Sergi López,David Marsais,Silvia Pérez Cruz            NaN   \n",
       "4               Steven Yeun,Ye-Ri Han,Alan S. Kim            NaN   \n",
       "\n",
       "              nationalités                      langue_d_origine  \\\n",
       "0          France,Belgique                              Français   \n",
       "1                      NaN                              Français   \n",
       "2                      NaN                               Anglais   \n",
       "3  France,Espagne,Belgique  Français, Anglais, Catalan, Espagnol   \n",
       "4                      NaN                       Coréen, Anglais   \n",
       "\n",
       "      type_film  annee_production budget note_presse note_spectateurs  \\\n",
       "0  Long-métrage              2020      -         4,0              2,2   \n",
       "1  Long-métrage              2020      -         1,8              2,5   \n",
       "2  Long-métrage              2020      -         2,5              2,5   \n",
       "3  Long-métrage              2020      -         4,0              3,7   \n",
       "4  Long-métrage              2020      -         3,9              3,6   \n",
       "\n",
       "              nombre_article               recompenses  \\\n",
       "0      31 articles de presse   1 prix et 2 nominations   \n",
       "1       4 articles de presse                       NaN   \n",
       "2  108 Critiques Spectateurs                       NaN   \n",
       "3   91 Critiques Spectateurs   6 prix et 2 nominations   \n",
       "4      35 articles de presse  3 prix et 16 nominations   \n",
       "\n",
       "                                         description boxoffice  \n",
       "0  Dans un lotissement en province, trois voisins...   256 355  \n",
       "1  Dentiste à Paris, Romain vient de perdre son p...   211 995  \n",
       "2  Dans SCOOBY!, on découvre comment Scooby et Sa...   191 223  \n",
       "3                                                NaN    61 028  \n",
       "4  Une famille américaine d’origine sud-coréenne ...    22 413  "
      ]
     },
     "execution_count": 15,
     "metadata": {},
     "output_type": "execute_result"
    }
   ],
   "source": [
    "merged_dataset.head()"
   ]
  },
  {
   "cell_type": "code",
   "execution_count": 16,
   "metadata": {},
   "outputs": [],
   "source": [
    "merged_dataset.to_csv('dataset_bronze.csv', index=False)"
   ]
  }
 ],
 "metadata": {
  "kernelspec": {
   "display_name": "base",
   "language": "python",
   "name": "python3"
  },
  "language_info": {
   "codemirror_mode": {
    "name": "ipython",
    "version": 3
   },
   "file_extension": ".py",
   "mimetype": "text/x-python",
   "name": "python",
   "nbconvert_exporter": "python",
   "pygments_lexer": "ipython3",
   "version": "3.10.8"
  },
  "orig_nbformat": 4
 },
 "nbformat": 4,
 "nbformat_minor": 2
}
