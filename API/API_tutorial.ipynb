{
 "cells": [
  {
   "cell_type": "markdown",
   "metadata": {},
   "source": [
    "# How to create an API with FastAPi ? "
   ]
  },
  {
   "cell_type": "markdown",
   "metadata": {},
   "source": [
    "1) FastApi and Uvicorn installation\n",
    "\n",
    "```pip install fastapi uvicorn```"
   ]
  },
  {
   "cell_type": "markdown",
   "metadata": {},
   "source": [
    "2. Endpoints definition and model importation\n",
    "\n",
    "In a python file *main.py* : "
   ]
  },
  {
   "cell_type": "code",
   "execution_count": null,
   "metadata": {},
   "outputs": [],
   "source": [
    "from fastapi import FastAPI\n",
    "import joblib\n",
    "from pydantic import BaseModel\n",
    "\n",
    "\n",
    "# Model importation\n",
    "model = joblib.load('modele.pkl')\n",
    "\n",
    "app = FastAPI()\n",
    "\n",
    "\n",
    "class FilmInput(BaseModel): #Put all the model features\n",
    "    annee_production: float\n",
    "    durée: float\n",
    "    nombre_article: float\n",
    "    \n",
    "    \n",
    "@app.post(\"/predict/\")\n",
    "def predict_film_boxoffice(film: FilmInput):\n",
    "    # Convert the incoming request data into a format suitable for prediction\n",
    "    prediction_data = [[film.annee_production, film.durée, film.nombre_article]]\n",
    "\n",
    "    # Use the loaded model to make predictions\n",
    "    prediction = model.predict(prediction_data)\n",
    "\n",
    "    # Assuming prediction is a single value (box office prediction), you can return it as a JSON response\n",
    "    return {\"box_office_prediction\": prediction[0]}"
   ]
  },
  {
   "cell_type": "markdown",
   "metadata": {},
   "source": [
    "3. Server execution\n",
    "\n",
    "```uvicorn your_api_file_name:app --host 0.0.0.0 --port 8000```"
   ]
  },
  {
   "cell_type": "markdown",
   "metadata": {},
   "source": [
    "# How to make a request with Postman?"
   ]
  },
  {
   "cell_type": "markdown",
   "metadata": {},
   "source": [
    "1. Install Postman\n",
    "\n",
    "```snap install postman```"
   ]
  },
  {
   "cell_type": "markdown",
   "metadata": {},
   "source": [
    "2. Open Postman"
   ]
  },
  {
   "cell_type": "markdown",
   "metadata": {},
   "source": [
    "3. Create a New Request: Click on the \"New\" button in the top-left corner of Postman, and then click on \"Request\"."
   ]
  },
  {
   "cell_type": "markdown",
   "metadata": {},
   "source": [
    "4. Enter Request Details:\n",
    "- Provide a name for your request (e.g., \"Film Prediction Request\").  \n",
    "- Choose the request type as \"POST\" from the dropdown next to the URL field.  \n",
    "- Enter the URL for your FastAPI endpoint where the prediction will be made (e.g., \"http://localhost:8000/predict/\" if your FastAPI server is running locally).  "
   ]
  },
  {
   "cell_type": "markdown",
   "metadata": {},
   "source": [
    "5. Set Headers:\n",
    "- Click on the \"Headers\" tab.\n",
    "- Add a new header key-value pair with \"Content-Type\" as the key and \"application/json\" as the value. This header indicates that the request body will contain JSON data."
   ]
  },
  {
   "cell_type": "markdown",
   "metadata": {},
   "source": [
    "6. Enter Request Body:\n",
    "- Click on the \"Body\" tab.\n",
    "- Select \"raw\" as the input type.\n",
    "- In the text area below, enter the JSON data for the film details you want to predict. For example:\n",
    "\n",
    "```\n",
    "{\n",
    "    \"annee_production\": 2021,\n",
    "    \"durée\": 120.5,\n",
    "    \"nombre_article\": 12\n",
    "}\n",
    "```"
   ]
  },
  {
   "cell_type": "markdown",
   "metadata": {},
   "source": [
    "7. Send the Request: Click on the \"Send\" button to send the request to your FastAPI server."
   ]
  },
  {
   "cell_type": "markdown",
   "metadata": {},
   "source": [
    "8. Receive the Response: Postman will display the response received from your FastAPI server. It will contain the predicted box office value based on the input film details."
   ]
  },
  {
   "cell_type": "markdown",
   "metadata": {},
   "source": [
    "# If you get the error: adress already in use"
   ]
  },
  {
   "cell_type": "markdown",
   "metadata": {},
   "source": [
    "Find the PID (Process ID) of the FastAPI server process:\n",
    "\n",
    "```ps aux | grep uvicorn``` \n",
    "\n",
    "Replace PID by the process ID\n",
    "\n",
    "```kill PID``` "
   ]
  }
 ],
 "metadata": {
  "kernelspec": {
   "display_name": "base",
   "language": "python",
   "name": "python3"
  },
  "language_info": {
   "codemirror_mode": {
    "name": "ipython",
    "version": 3
   },
   "file_extension": ".py",
   "mimetype": "text/x-python",
   "name": "python",
   "nbconvert_exporter": "python",
   "pygments_lexer": "ipython3",
   "version": "3.10.8"
  },
  "orig_nbformat": 4
 },
 "nbformat": 4,
 "nbformat_minor": 2
}
